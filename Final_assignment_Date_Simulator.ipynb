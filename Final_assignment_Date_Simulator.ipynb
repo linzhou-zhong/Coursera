{
    "cells": [
        {
            "cell_type": "code",
            "execution_count": null,
            "metadata": {},
            "outputs": [
                {
                    "name": "stdout",
                    "output_type": "stream",
                    "text": "Solving environment: \\ "
                }
            ],
            "source": "!conda install -c conda-forge folium=0.5.0 --yes\n!conda install -c conda-forge geopy --yes "
        },
        {
            "cell_type": "code",
            "execution_count": 3,
            "metadata": {},
            "outputs": [
                {
                    "name": "stdout",
                    "output_type": "stream",
                    "text": "Folium installed\nLibraries imported.\n"
                }
            ],
            "source": "import requests # library to handle requests\nimport pandas as pd # library for data analsysis\nimport numpy as np # library to handle data in a vectorized manner\nimport random # library for random number generation\n\n#!conda install -c conda-forge geopy --yes \nfrom geopy.geocoders import Nominatim # module to convert an address into latitude and longitude values\n\n# libraries for displaying images\nfrom IPython.display import Image \nfrom IPython.core.display import HTML \n    \n# tranforming json file into a pandas dataframe library\nfrom pandas.io.json import json_normalize\n\n#!conda install -c conda-forge folium=0.5.0 --yes\nimport folium # plotting library\n\nimport matplotlib.cm as cm\nimport matplotlib.colors as colors\n\nprint('Folium installed')\nprint('Libraries imported.')"
        },
        {
            "cell_type": "code",
            "execution_count": 355,
            "metadata": {},
            "outputs": [
                {
                    "name": "stdout",
                    "output_type": "stream",
                    "text": "Your credentails:\nCLIENT_ID: ZJLDAZ3WP20OIO1SE3C2LEDFQLKDPAWEXFVWN0PVQ1HD5AQJ\nCLIENT_SECRET:EUSQQXHATVYTT3GQ0OAK4550T0ILKHMJA41Z2SG1JZZAWN2F\n"
                }
            ],
            "source": "CLIENT_ID = 'ZJLDAZ3WP20OIO1SE3C2LEDFQLKDPAWEXFVWN0PVQ1HD5AQJ' # your Foursquare ID\nCLIENT_SECRET = 'EUSQQXHATVYTT3GQ0OAK4550T0ILKHMJA41Z2SG1JZZAWN2F' # your Foursquare Secret\nVERSION = '20180604'\nLIMIT = 100\nradius = 10000\nprint('Your credentails:')\nprint('CLIENT_ID: ' + CLIENT_ID)\nprint('CLIENT_SECRET:' + CLIENT_SECRET)"
        },
        {
            "cell_type": "code",
            "execution_count": 446,
            "metadata": {},
            "outputs": [
                {
                    "name": "stdout",
                    "output_type": "stream",
                    "text": "48.8717265 2.385085\n"
                }
            ],
            "source": "address = 'Belleville, Paris, France'\n\ngeolocator = Nominatim(user_agent=\"foursquare_agent\")\nlocation = geolocator.geocode(address)\nlatitude = location.latitude\nlongitude = location.longitude\nprint(latitude, longitude)"
        },
        {
            "cell_type": "code",
            "execution_count": 447,
            "metadata": {},
            "outputs": [
                {
                    "data": {
                        "text/plain": "'https://api.foursquare.com/v2/venues/explore?client_id=ZJLDAZ3WP20OIO1SE3C2LEDFQLKDPAWEXFVWN0PVQ1HD5AQJ&client_secret=EUSQQXHATVYTT3GQ0OAK4550T0ILKHMJA41Z2SG1JZZAWN2F&ll=48.8717265,2.385085&v=20180604&limit=100'"
                    },
                    "execution_count": 447,
                    "metadata": {},
                    "output_type": "execute_result"
                }
            ],
            "source": "url = 'https://api.foursquare.com/v2/venues/explore?client_id={}&client_secret={}&ll={},{}&v={}&limit={}'.format(CLIENT_ID, CLIENT_SECRET, latitude, longitude, VERSION, LIMIT)\nurl"
        },
        {
            "cell_type": "code",
            "execution_count": 448,
            "metadata": {},
            "outputs": [],
            "source": "results = requests.get(url).json()"
        },
        {
            "cell_type": "code",
            "execution_count": 449,
            "metadata": {},
            "outputs": [],
            "source": "# assign relevant part of JSON to venues\n# tranform venues into a dataframe\nvenue_df = json_normalize([item['venue'] for group in results['response']['groups'] for item in group['items']])"
        },
        {
            "cell_type": "code",
            "execution_count": 450,
            "metadata": {},
            "outputs": [
                {
                    "data": {
                        "text/html": "<div>\n<style scoped>\n    .dataframe tbody tr th:only-of-type {\n        vertical-align: middle;\n    }\n\n    .dataframe tbody tr th {\n        vertical-align: top;\n    }\n\n    .dataframe thead th {\n        text-align: right;\n    }\n</style>\n<table border=\"1\" class=\"dataframe\">\n  <thead>\n    <tr style=\"text-align: right;\">\n      <th></th>\n      <th>categories</th>\n      <th>id</th>\n      <th>location.address</th>\n      <th>location.cc</th>\n      <th>location.city</th>\n      <th>location.country</th>\n      <th>location.crossStreet</th>\n      <th>location.distance</th>\n      <th>location.formattedAddress</th>\n      <th>location.labeledLatLngs</th>\n      <th>location.lat</th>\n      <th>location.lng</th>\n      <th>location.neighborhood</th>\n      <th>location.postalCode</th>\n      <th>location.state</th>\n      <th>name</th>\n      <th>photos.count</th>\n      <th>photos.groups</th>\n      <th>venuePage.id</th>\n    </tr>\n  </thead>\n  <tbody>\n    <tr>\n      <th>0</th>\n      <td>Park</td>\n      <td>4adcda0af964a520253421e3</td>\n      <td>47 rue des Couronnes</td>\n      <td>FR</td>\n      <td>Paris</td>\n      <td>France</td>\n      <td>NaN</td>\n      <td>30</td>\n      <td>47 rue des Couronnes</td>\n      <td>[{'label': 'display', 'lat': 48.87145729102217...</td>\n      <td>48.871457</td>\n      <td>2.385014</td>\n      <td>NaN</td>\n      <td>75020</td>\n      <td>\u00cele-de-France</td>\n      <td>Parc de Belleville</td>\n      <td>0</td>\n      <td>[]</td>\n      <td>NaN</td>\n    </tr>\n    <tr>\n      <th>1</th>\n      <td>French Restaurant</td>\n      <td>4b75e3f0f964a520742c2ee3</td>\n      <td>12 rue des Envierges</td>\n      <td>FR</td>\n      <td>Paris</td>\n      <td>France</td>\n      <td>NaN</td>\n      <td>85</td>\n      <td>12 rue des Envierges</td>\n      <td>[{'label': 'display', 'lat': 48.87166048715102...</td>\n      <td>48.871660</td>\n      <td>2.386255</td>\n      <td>NaN</td>\n      <td>75020</td>\n      <td>\u00cele-de-France</td>\n      <td>Le Vieux Belleville</td>\n      <td>0</td>\n      <td>[]</td>\n      <td>NaN</td>\n    </tr>\n    <tr>\n      <th>2</th>\n      <td>Pizza Place</td>\n      <td>5471f9b3498e6e2065dc3ad4</td>\n      <td>356 rue des Pyr\u00e9n\u00e9es</td>\n      <td>FR</td>\n      <td>Paris</td>\n      <td>France</td>\n      <td>NaN</td>\n      <td>261</td>\n      <td>356 rue des Pyr\u00e9n\u00e9es</td>\n      <td>[{'label': 'display', 'lat': 48.87391757999977...</td>\n      <td>48.873918</td>\n      <td>2.386359</td>\n      <td>NaN</td>\n      <td>75020</td>\n      <td>\u00cele-de-France</td>\n      <td>Il Posto</td>\n      <td>0</td>\n      <td>[]</td>\n      <td>NaN</td>\n    </tr>\n    <tr>\n      <th>3</th>\n      <td>French Restaurant</td>\n      <td>4adcda14f964a5203c3721e3</td>\n      <td>3 rue Jouye-Rouve</td>\n      <td>FR</td>\n      <td>Paris</td>\n      <td>France</td>\n      <td>NaN</td>\n      <td>228</td>\n      <td>3 rue Jouye-Rouve</td>\n      <td>[{'label': 'display', 'lat': 48.87309786827826...</td>\n      <td>48.873098</td>\n      <td>2.382767</td>\n      <td>NaN</td>\n      <td>75020</td>\n      <td>\u00cele-de-France</td>\n      <td>Le Baratin</td>\n      <td>0</td>\n      <td>[]</td>\n      <td>NaN</td>\n    </tr>\n    <tr>\n      <th>4</th>\n      <td>French Restaurant</td>\n      <td>54dd4f8f498e62876939b098</td>\n      <td>101 rue des Couronnes</td>\n      <td>FR</td>\n      <td>Paris</td>\n      <td>France</td>\n      <td>NaN</td>\n      <td>321</td>\n      <td>101 rue des Couronnes</td>\n      <td>[{'label': 'display', 'lat': 48.8722765406218,...</td>\n      <td>48.872277</td>\n      <td>2.389393</td>\n      <td>NaN</td>\n      <td>75020</td>\n      <td>\u00cele-de-France</td>\n      <td>Le Jourdain</td>\n      <td>0</td>\n      <td>[]</td>\n      <td>NaN</td>\n    </tr>\n  </tbody>\n</table>\n</div>",
                        "text/plain": "          categories                        id       location.address  \\\n0               Park  4adcda0af964a520253421e3   47 rue des Couronnes   \n1  French Restaurant  4b75e3f0f964a520742c2ee3   12 rue des Envierges   \n2        Pizza Place  5471f9b3498e6e2065dc3ad4   356 rue des Pyr\u00e9n\u00e9es   \n3  French Restaurant  4adcda14f964a5203c3721e3      3 rue Jouye-Rouve   \n4  French Restaurant  54dd4f8f498e62876939b098  101 rue des Couronnes   \n\n  location.cc location.city location.country location.crossStreet  \\\n0          FR         Paris           France                  NaN   \n1          FR         Paris           France                  NaN   \n2          FR         Paris           France                  NaN   \n3          FR         Paris           France                  NaN   \n4          FR         Paris           France                  NaN   \n\n   location.distance location.formattedAddress  \\\n0                 30      47 rue des Couronnes   \n1                 85      12 rue des Envierges   \n2                261      356 rue des Pyr\u00e9n\u00e9es   \n3                228         3 rue Jouye-Rouve   \n4                321     101 rue des Couronnes   \n\n                             location.labeledLatLngs  location.lat  \\\n0  [{'label': 'display', 'lat': 48.87145729102217...     48.871457   \n1  [{'label': 'display', 'lat': 48.87166048715102...     48.871660   \n2  [{'label': 'display', 'lat': 48.87391757999977...     48.873918   \n3  [{'label': 'display', 'lat': 48.87309786827826...     48.873098   \n4  [{'label': 'display', 'lat': 48.8722765406218,...     48.872277   \n\n   location.lng location.neighborhood location.postalCode location.state  \\\n0      2.385014                   NaN               75020  \u00cele-de-France   \n1      2.386255                   NaN               75020  \u00cele-de-France   \n2      2.386359                   NaN               75020  \u00cele-de-France   \n3      2.382767                   NaN               75020  \u00cele-de-France   \n4      2.389393                   NaN               75020  \u00cele-de-France   \n\n                  name  photos.count photos.groups venuePage.id  \n0   Parc de Belleville             0            []          NaN  \n1  Le Vieux Belleville             0            []          NaN  \n2             Il Posto             0            []          NaN  \n3           Le Baratin             0            []          NaN  \n4          Le Jourdain             0            []          NaN  "
                    },
                    "execution_count": 450,
                    "metadata": {},
                    "output_type": "execute_result"
                }
            ],
            "source": "venue_df['categories'] = [category[0]['name'] for category in venue_df['categories']]\nvenue_df['location.formattedAddress'] = [x[0] for x in venue_df['location.formattedAddress'].values]\nvenue_df.head()"
        },
        {
            "cell_type": "code",
            "execution_count": 451,
            "metadata": {},
            "outputs": [],
            "source": "venue_df.drop(columns={\"location.cc\", \"location.labeledLatLngs\", \"location.neighborhood\",\"location.address\", \"photos.count\", \"photos.groups\", \"venuePage.id\", \"location.crossStreet\"}, inplace = True)"
        },
        {
            "cell_type": "code",
            "execution_count": 452,
            "metadata": {},
            "outputs": [],
            "source": "venue_df.columns = ['categories', 'id', 'city', 'country', 'distance', 'address', 'lat', 'lng', 'postalCode', 'state', 'name']"
        },
        {
            "cell_type": "code",
            "execution_count": 453,
            "metadata": {},
            "outputs": [],
            "source": "venue_df.dropna(subset = [\"postalCode\"], axis=0, inplace = True)"
        },
        {
            "cell_type": "code",
            "execution_count": 454,
            "metadata": {},
            "outputs": [
                {
                    "data": {
                        "text/html": "<div>\n<style scoped>\n    .dataframe tbody tr th:only-of-type {\n        vertical-align: middle;\n    }\n\n    .dataframe tbody tr th {\n        vertical-align: top;\n    }\n\n    .dataframe thead th {\n        text-align: right;\n    }\n</style>\n<table border=\"1\" class=\"dataframe\">\n  <thead>\n    <tr style=\"text-align: right;\">\n      <th></th>\n      <th>categories</th>\n      <th>id</th>\n      <th>city</th>\n      <th>country</th>\n      <th>distance</th>\n      <th>address</th>\n      <th>lat</th>\n      <th>lng</th>\n      <th>postalCode</th>\n      <th>state</th>\n      <th>name</th>\n    </tr>\n  </thead>\n  <tbody>\n    <tr>\n      <th>0</th>\n      <td>Park</td>\n      <td>4adcda0af964a520253421e3</td>\n      <td>Paris</td>\n      <td>France</td>\n      <td>30</td>\n      <td>47 rue des Couronnes</td>\n      <td>48.871457</td>\n      <td>2.385014</td>\n      <td>75020</td>\n      <td>\u00cele-de-France</td>\n      <td>Parc de Belleville</td>\n    </tr>\n    <tr>\n      <th>1</th>\n      <td>French Restaurant</td>\n      <td>4b75e3f0f964a520742c2ee3</td>\n      <td>Paris</td>\n      <td>France</td>\n      <td>85</td>\n      <td>12 rue des Envierges</td>\n      <td>48.871660</td>\n      <td>2.386255</td>\n      <td>75020</td>\n      <td>\u00cele-de-France</td>\n      <td>Le Vieux Belleville</td>\n    </tr>\n    <tr>\n      <th>2</th>\n      <td>Pizza Place</td>\n      <td>5471f9b3498e6e2065dc3ad4</td>\n      <td>Paris</td>\n      <td>France</td>\n      <td>261</td>\n      <td>356 rue des Pyr\u00e9n\u00e9es</td>\n      <td>48.873918</td>\n      <td>2.386359</td>\n      <td>75020</td>\n      <td>\u00cele-de-France</td>\n      <td>Il Posto</td>\n    </tr>\n    <tr>\n      <th>3</th>\n      <td>French Restaurant</td>\n      <td>4adcda14f964a5203c3721e3</td>\n      <td>Paris</td>\n      <td>France</td>\n      <td>228</td>\n      <td>3 rue Jouye-Rouve</td>\n      <td>48.873098</td>\n      <td>2.382767</td>\n      <td>75020</td>\n      <td>\u00cele-de-France</td>\n      <td>Le Baratin</td>\n    </tr>\n    <tr>\n      <th>4</th>\n      <td>French Restaurant</td>\n      <td>54dd4f8f498e62876939b098</td>\n      <td>Paris</td>\n      <td>France</td>\n      <td>321</td>\n      <td>101 rue des Couronnes</td>\n      <td>48.872277</td>\n      <td>2.389393</td>\n      <td>75020</td>\n      <td>\u00cele-de-France</td>\n      <td>Le Jourdain</td>\n    </tr>\n  </tbody>\n</table>\n</div>",
                        "text/plain": "          categories                        id   city country  distance  \\\n0               Park  4adcda0af964a520253421e3  Paris  France        30   \n1  French Restaurant  4b75e3f0f964a520742c2ee3  Paris  France        85   \n2        Pizza Place  5471f9b3498e6e2065dc3ad4  Paris  France       261   \n3  French Restaurant  4adcda14f964a5203c3721e3  Paris  France       228   \n4  French Restaurant  54dd4f8f498e62876939b098  Paris  France       321   \n\n                 address        lat       lng postalCode          state  \\\n0   47 rue des Couronnes  48.871457  2.385014      75020  \u00cele-de-France   \n1   12 rue des Envierges  48.871660  2.386255      75020  \u00cele-de-France   \n2   356 rue des Pyr\u00e9n\u00e9es  48.873918  2.386359      75020  \u00cele-de-France   \n3      3 rue Jouye-Rouve  48.873098  2.382767      75020  \u00cele-de-France   \n4  101 rue des Couronnes  48.872277  2.389393      75020  \u00cele-de-France   \n\n                  name  \n0   Parc de Belleville  \n1  Le Vieux Belleville  \n2             Il Posto  \n3           Le Baratin  \n4          Le Jourdain  "
                    },
                    "execution_count": 454,
                    "metadata": {},
                    "output_type": "execute_result"
                }
            ],
            "source": "venue_df.head()"
        },
        {
            "cell_type": "code",
            "execution_count": 455,
            "metadata": {},
            "outputs": [
                {
                    "data": {
                        "text/plain": "Bar                   0.195876\nFrench Restaurant     0.092784\nCaf\u00e9                  0.051546\nItalian Restaurant    0.051546\nPizza Place           0.030928\nName: categories, dtype: float64"
                    },
                    "execution_count": 455,
                    "metadata": {},
                    "output_type": "execute_result"
                }
            ],
            "source": "venue_df['categories'].value_counts(normalize=True).head()"
        },
        {
            "cell_type": "code",
            "execution_count": 456,
            "metadata": {},
            "outputs": [
                {
                    "data": {
                        "text/html": "<div>\n<style scoped>\n    .dataframe tbody tr th:only-of-type {\n        vertical-align: middle;\n    }\n\n    .dataframe tbody tr th {\n        vertical-align: top;\n    }\n\n    .dataframe thead th {\n        text-align: right;\n    }\n</style>\n<table border=\"1\" class=\"dataframe\">\n  <thead>\n    <tr style=\"text-align: right;\">\n      <th></th>\n      <th>categories</th>\n      <th>id</th>\n      <th>city</th>\n      <th>country</th>\n      <th>distance</th>\n      <th>address</th>\n      <th>lat</th>\n      <th>lng</th>\n      <th>postalCode</th>\n      <th>state</th>\n      <th>name</th>\n      <th>categories_id</th>\n    </tr>\n  </thead>\n  <tbody>\n    <tr>\n      <th>0</th>\n      <td>Park</td>\n      <td>4adcda0af964a520253421e3</td>\n      <td>Paris</td>\n      <td>France</td>\n      <td>30</td>\n      <td>47 rue des Couronnes</td>\n      <td>48.871457</td>\n      <td>2.385014</td>\n      <td>75020</td>\n      <td>\u00cele-de-France</td>\n      <td>Parc de Belleville</td>\n      <td>0</td>\n    </tr>\n    <tr>\n      <th>1</th>\n      <td>French Restaurant</td>\n      <td>4b75e3f0f964a520742c2ee3</td>\n      <td>Paris</td>\n      <td>France</td>\n      <td>85</td>\n      <td>12 rue des Envierges</td>\n      <td>48.871660</td>\n      <td>2.386255</td>\n      <td>75020</td>\n      <td>\u00cele-de-France</td>\n      <td>Le Vieux Belleville</td>\n      <td>1</td>\n    </tr>\n    <tr>\n      <th>2</th>\n      <td>Pizza Place</td>\n      <td>5471f9b3498e6e2065dc3ad4</td>\n      <td>Paris</td>\n      <td>France</td>\n      <td>261</td>\n      <td>356 rue des Pyr\u00e9n\u00e9es</td>\n      <td>48.873918</td>\n      <td>2.386359</td>\n      <td>75020</td>\n      <td>\u00cele-de-France</td>\n      <td>Il Posto</td>\n      <td>2</td>\n    </tr>\n    <tr>\n      <th>3</th>\n      <td>French Restaurant</td>\n      <td>4adcda14f964a5203c3721e3</td>\n      <td>Paris</td>\n      <td>France</td>\n      <td>228</td>\n      <td>3 rue Jouye-Rouve</td>\n      <td>48.873098</td>\n      <td>2.382767</td>\n      <td>75020</td>\n      <td>\u00cele-de-France</td>\n      <td>Le Baratin</td>\n      <td>1</td>\n    </tr>\n    <tr>\n      <th>4</th>\n      <td>French Restaurant</td>\n      <td>54dd4f8f498e62876939b098</td>\n      <td>Paris</td>\n      <td>France</td>\n      <td>321</td>\n      <td>101 rue des Couronnes</td>\n      <td>48.872277</td>\n      <td>2.389393</td>\n      <td>75020</td>\n      <td>\u00cele-de-France</td>\n      <td>Le Jourdain</td>\n      <td>1</td>\n    </tr>\n  </tbody>\n</table>\n</div>",
                        "text/plain": "          categories                        id   city country  distance  \\\n0               Park  4adcda0af964a520253421e3  Paris  France        30   \n1  French Restaurant  4b75e3f0f964a520742c2ee3  Paris  France        85   \n2        Pizza Place  5471f9b3498e6e2065dc3ad4  Paris  France       261   \n3  French Restaurant  4adcda14f964a5203c3721e3  Paris  France       228   \n4  French Restaurant  54dd4f8f498e62876939b098  Paris  France       321   \n\n                 address        lat       lng postalCode          state  \\\n0   47 rue des Couronnes  48.871457  2.385014      75020  \u00cele-de-France   \n1   12 rue des Envierges  48.871660  2.386255      75020  \u00cele-de-France   \n2   356 rue des Pyr\u00e9n\u00e9es  48.873918  2.386359      75020  \u00cele-de-France   \n3      3 rue Jouye-Rouve  48.873098  2.382767      75020  \u00cele-de-France   \n4  101 rue des Couronnes  48.872277  2.389393      75020  \u00cele-de-France   \n\n                  name  categories_id  \n0   Parc de Belleville              0  \n1  Le Vieux Belleville              1  \n2             Il Posto              2  \n3           Le Baratin              1  \n4          Le Jourdain              1  "
                    },
                    "execution_count": 456,
                    "metadata": {},
                    "output_type": "execute_result"
                }
            ],
            "source": "venue_df['categories_id'] = pd.factorize(venue_df.categories)[0]\nvenue_df.head()"
        },
        {
            "cell_type": "code",
            "execution_count": 457,
            "metadata": {
                "scrolled": true
            },
            "outputs": [
                {
                    "data": {
                        "text/plain": "\"\\nvenues_map = folium.Map(location=[latitude, longitude], zoom_start=100) # generate map centred around the Conrad Hotel\\ncolors_array = cm.rainbow(np.linspace(0, 1, len(set(venue_df.categories_id))))\\nrainbow = [colors.rgb2hex(i) for i in colors_array]\\n# add a red circle marker to represent the Conrad Hotel\\nfolium.features.CircleMarker(\\n    [latitude, longitude],\\n    radius=10,\\n    color='red',\\n    popup='Belle Ville',\\n    fill = True,\\n    fill_color = 'red',\\n    fill_opacity = 0.6\\n).add_to(venues_map)\\n\\n# add the Italian restaurants as blue circle markers\\nfor lat, lng, label, factory_id in zip(venue_df.lat, venue_df.lng, venue_df.categories, venue_df.categories_id):\\n    folium.features.CircleMarker(\\n        [lat, lng],\\n        radius=5,\\n        color=rainbow[factory_id],\\n        popup=label,\\n        fill = True,\\n        fill_color=rainbow[factory_id],\\n        fill_opacity=0.6\\n    ).add_to(venues_map)\\n\\n# display map\\nvenues_map\\n\""
                    },
                    "execution_count": 457,
                    "metadata": {},
                    "output_type": "execute_result"
                }
            ],
            "source": "'''\nvenues_map = folium.Map(location=[latitude, longitude], zoom_start=100) # generate map centred around the Conrad Hotel\ncolors_array = cm.rainbow(np.linspace(0, 1, len(set(venue_df.categories_id))))\nrainbow = [colors.rgb2hex(i) for i in colors_array]\n# add a red circle marker to represent the Conrad Hotel\nfolium.features.CircleMarker(\n    [latitude, longitude],\n    radius=10,\n    color='red',\n    popup='Belle Ville',\n    fill = True,\n    fill_color = 'red',\n    fill_opacity = 0.6\n).add_to(venues_map)\n\n# add the Italian restaurants as blue circle markers\nfor lat, lng, label, factory_id in zip(venue_df.lat, venue_df.lng, venue_df.categories, venue_df.categories_id):\n    folium.features.CircleMarker(\n        [lat, lng],\n        radius=5,\n        color=rainbow[factory_id],\n        popup=label,\n        fill = True,\n        fill_color=rainbow[factory_id],\n        fill_opacity=0.6\n    ).add_to(venues_map)\n\n# display map\nvenues_map\n'''"
        },
        {
            "cell_type": "code",
            "execution_count": 476,
            "metadata": {},
            "outputs": [],
            "source": "# one hot encoding\nvenue_df_onehot = pd.get_dummies(venue_df[['categories']], prefix=\"\", prefix_sep=\"\")\n\n\n# add distancecolumn back to dataframe\nvenue_df_onehot['distance'] = venue_df['distance'] \n\n# move neighborhood column to the first column\nfixed_columns = [venue_df_onehot.columns[-1]] + list(venue_df_onehot.columns[:-1])\nvenue_df_onehot = venue_df_onehot[fixed_columns]\n\nvenue_df_onehot.head()"
        },
        {
            "cell_type": "code",
            "execution_count": 458,
            "metadata": {},
            "outputs": [],
            "source": "venue_df.drop(columns = {'categories_id'}, inplace = True)\nvenue_df = venue_df.reset_index(drop = True)\nvenue_df_grouped = venue_df_onehot.groupby('distance').mean().reset_index()"
        },
        {
            "cell_type": "code",
            "execution_count": null,
            "metadata": {},
            "outputs": [],
            "source": "num_top_venues = 5\n\nfor hood in venue_df_grouped['distance']:\n    print(\"----\"+str(hood)+\"----\")\n    temp = venue_df_grouped[venue_df_grouped['distance'] == hood].T.reset_index()\n    temp.columns = ['venue','freq']\n    temp = temp.iloc[1:]\n    temp['freq'] = temp['freq'].astype(float)\n    temp = temp.round({'freq': 2})\n    print(temp.sort_values('freq', ascending=False).reset_index(drop=True).head())\n    print('\\n')"
        },
        {
            "cell_type": "code",
            "execution_count": null,
            "metadata": {},
            "outputs": [],
            "source": "def return_most_common_venues(row, num_top_venues):\n    row_categories = row.iloc[1:]\n    row_categories_sorted = row_categories.sort_values(ascending=False)\n    \n    return row_categories_sorted.index.values[0:num_top_venues]"
        },
        {
            "cell_type": "code",
            "execution_count": null,
            "metadata": {},
            "outputs": [],
            "source": "# set number of clusters\nkclusters = 5\n\nvenue_grouped_clustering = venue_df_grouped.drop('distance', 1)\n\n# run k-means clustering\nkmeans = KMeans(n_clusters=kclusters, random_state=0).fit(venue_grouped_clustering)\n\n# check cluster labels generated for each row in the dataframe\nkmeans.labels_[0:10] "
        },
        {
            "cell_type": "code",
            "execution_count": null,
            "metadata": {},
            "outputs": [],
            "source": "# add clustering labels\nneighborhoods_venues_sorted.insert(0, 'Cluster Labels', kmeans.labels_)\n\nmanhattan_merged = manhattan_data\n\n# merge toronto_grouped with toronto_data to add latitude/longitude for each neighborhood\nvenue_df_grouped = venue_df_grouped.join(neighborhoods_venues_sorted.set_index('Neighborhood'), on='Neighborhood')\n\nvenue_df_grouped.head() # check the last columns!"
        },
        {
            "cell_type": "code",
            "execution_count": null,
            "metadata": {},
            "outputs": [],
            "source": "# add markers to the map\nmarkers_colors = []\nfor lat, lon, poi, cluster in zip(manhattan_merged['Latitude'], manhattan_merged['Longitude'], manhattan_merged['Neighborhood'], manhattan_merged['Cluster Labels']):\n    label = folium.Popup(str(poi) + ' Cluster ' + str(cluster), parse_html=True)\n    folium.CircleMarker(\n        [lat, lon],\n        radius=5,\n        popup=label,\n        color=rainbow[cluster-1],\n        fill=True,\n        fill_color=rainbow[cluster-1],\n        fill_opacity=0.7).add_to(map_clusters)\n       \nmap_clusters"
        },
        {
            "cell_type": "code",
            "execution_count": null,
            "metadata": {},
            "outputs": [],
            "source": ""
        }
    ],
    "metadata": {
        "kernelspec": {
            "display_name": "Python 3.6",
            "language": "python",
            "name": "python3"
        },
        "language_info": {
            "codemirror_mode": {
                "name": "ipython",
                "version": 3
            },
            "file_extension": ".py",
            "mimetype": "text/x-python",
            "name": "python",
            "nbconvert_exporter": "python",
            "pygments_lexer": "ipython3",
            "version": "3.6.9"
        }
    },
    "nbformat": 4,
    "nbformat_minor": 1
}